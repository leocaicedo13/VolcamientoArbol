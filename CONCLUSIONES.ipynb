{
  "nbformat": 4,
  "nbformat_minor": 0,
  "metadata": {
    "colab": {
      "provenance": []
    },
    "kernelspec": {
      "name": "python3",
      "display_name": "Python 3"
    },
    "language_info": {
      "name": "python"
    }
  },
  "cells": [
    {
      "cell_type": "markdown",
      "source": [
        "El análisis de las características propias del árbol y las variables ambientales arroja una serie de hallazgos significativos. En primer lugar, se observa una notable variabilidad en el diámetro y la altura de los árboles, con valores atípicos que pueden alcanzar dimensiones considerablemente superiores a la mediana. Esta variabilidad sugiere la existencia de diferentes especies o condiciones de crecimiento que influyen en estas medidas.\n",
        "\n",
        "En cuanto a las variables ambientales, se destaca que si bien los volúmenes de lluvia están mayormente concentrados en rangos de 0 a 5 mm, existen eventos extremos con registros significativos por encima de este rango. Además, la velocidad del viento exhibe una concentración alrededor de la mediana, lo que sugiere que valores superiores podrían estar asociados a la caída de árboles, destacando así la importancia de este factor climático en la estabilidad arbórea.\n",
        "\n",
        "Aunque las correlaciones entre las variables ambientales y las características del árbol con la frecuencia de volcamientos son bajas en general, es notable el aumento significativo de estas correlaciones cuando se analizan acumulados mensuales, alcanzando valores de hasta 0.94 para la correlación entre precipitación y frecuencia de volcamientos. Esto sugiere una mayor influencia de las condiciones climáticas acumuladas en el comportamiento de los árboles.\n",
        "\n",
        "Además, se observa un patrón distintivo en los acumulados mensuales de lluvia y viento, con picos importantes en abril y noviembre, coincidiendo con los momentos de mayores registros tanto de lluvia como de viento promedio. Esta coincidencia en los picos de variables ambientales y casos de árboles volcados resalta la posible relación entre condiciones climáticas extremas y la vulnerabilidad de los árboles.\n",
        "\n",
        "Por último, al analizar la distribución de los casos de árboles volcados por localidad, se identifican áreas específicas como Suba, Usaquén, Engativá y Chapinero, las cuales concentran más del 50% de los casos. Este hallazgo proporciona información valiosa para la planificación y gestión del arbolado urbano, destacando la necesidad de intervenciones específicas en estas zonas para reducir los riesgos asociados a la caída de árboles.\n",
        "\n",
        "En conjunto, estos hallazgos brindan un panorama detallado y contextualizado sobre los factores que influyen en la estabilidad y el comportamiento de los árboles urbanos, ofreciendo una base sólida para el diseño de estrategias de manejo y conservación del arbolado en entornos urbanos."
      ],
      "metadata": {
        "id": "O-JLtHj4Iv2P"
      }
    }
  ]
}